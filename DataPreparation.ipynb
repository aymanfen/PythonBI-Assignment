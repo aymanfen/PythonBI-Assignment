{
 "cells": [
  {
   "cell_type": "code",
   "execution_count": 40,
   "metadata": {},
   "outputs": [],
   "source": [
    "import numpy as np\n",
    "import pandas as pd\n",
    "\n",
    "df1=pd.read_csv(\"Datasets/ProdBetail.csv\")\n",
    "df2=pd.read_csv(\"Datasets/ProdVegetale.csv\")"
   ]
  },
  {
   "cell_type": "code",
   "execution_count": 41,
   "metadata": {},
   "outputs": [
    {
     "data": {
      "text/plain": [
       "((77, 5), (14690, 5))"
      ]
     },
     "execution_count": 41,
     "metadata": {},
     "output_type": "execute_result"
    }
   ],
   "source": [
    "df1.shape,df2.shape"
   ]
  },
  {
   "cell_type": "code",
   "execution_count": 42,
   "metadata": {},
   "outputs": [],
   "source": [
    "df2['Occurrence']=df2['Occurrence'].str.slice(0,4)"
   ]
  },
  {
   "cell_type": "code",
   "execution_count": 43,
   "metadata": {},
   "outputs": [],
   "source": [
    "df2.rename(columns={'  Valeur ': ' Valeur '}, inplace=True)"
   ]
  },
  {
   "cell_type": "code",
   "execution_count": 44,
   "metadata": {},
   "outputs": [
    {
     "data": {
      "text/html": [
       "<div>\n",
       "<style scoped>\n",
       "    .dataframe tbody tr th:only-of-type {\n",
       "        vertical-align: middle;\n",
       "    }\n",
       "\n",
       "    .dataframe tbody tr th {\n",
       "        vertical-align: top;\n",
       "    }\n",
       "\n",
       "    .dataframe thead th {\n",
       "        text-align: right;\n",
       "    }\n",
       "</style>\n",
       "<table border=\"1\" class=\"dataframe\">\n",
       "  <thead>\n",
       "    <tr style=\"text-align: right;\">\n",
       "      <th></th>\n",
       "      <th>Occurrence</th>\n",
       "      <th>Filière</th>\n",
       "      <th>Produit</th>\n",
       "      <th>Indicateur</th>\n",
       "      <th>Valeur</th>\n",
       "    </tr>\n",
       "  </thead>\n",
       "  <tbody>\n",
       "    <tr>\n",
       "      <th>0</th>\n",
       "      <td>2010</td>\n",
       "      <td>Cheptel_Bovins</td>\n",
       "      <td>Bovins_Femelles</td>\n",
       "      <td>Effectif (1000 Tête)</td>\n",
       "      <td>2,174</td>\n",
       "    </tr>\n",
       "    <tr>\n",
       "      <th>1</th>\n",
       "      <td>2010</td>\n",
       "      <td>Cheptel_Bovins</td>\n",
       "      <td>Bovins_Males</td>\n",
       "      <td>Effectif (1000 Tête)</td>\n",
       "      <td>614</td>\n",
       "    </tr>\n",
       "    <tr>\n",
       "      <th>2</th>\n",
       "      <td>2010</td>\n",
       "      <td>Cheptel_Caprins</td>\n",
       "      <td>Caprins_Femelles</td>\n",
       "      <td>Effectif (1000 Tête)</td>\n",
       "      <td>4,030</td>\n",
       "    </tr>\n",
       "    <tr>\n",
       "      <th>3</th>\n",
       "      <td>2010</td>\n",
       "      <td>Cheptel_Caprins</td>\n",
       "      <td>Caprins_Males</td>\n",
       "      <td>Effectif (1000 Tête)</td>\n",
       "      <td>1,254</td>\n",
       "    </tr>\n",
       "    <tr>\n",
       "      <th>4</th>\n",
       "      <td>2010</td>\n",
       "      <td>Cheptel_Ovins</td>\n",
       "      <td>Ovins_Femelles</td>\n",
       "      <td>Effectif (1000 Tête)</td>\n",
       "      <td>12,651</td>\n",
       "    </tr>\n",
       "  </tbody>\n",
       "</table>\n",
       "</div>"
      ],
      "text/plain": [
       "  Occurrence          Filière           Produit            Indicateur  \\\n",
       "0       2010   Cheptel_Bovins   Bovins_Femelles  Effectif (1000 Tête)   \n",
       "1       2010   Cheptel_Bovins      Bovins_Males  Effectif (1000 Tête)   \n",
       "2       2010  Cheptel_Caprins  Caprins_Femelles  Effectif (1000 Tête)   \n",
       "3       2010  Cheptel_Caprins     Caprins_Males  Effectif (1000 Tête)   \n",
       "4       2010    Cheptel_Ovins    Ovins_Femelles  Effectif (1000 Tête)   \n",
       "\n",
       "    Valeur   \n",
       "0    2,174   \n",
       "1      614   \n",
       "2    4,030   \n",
       "3    1,254   \n",
       "4   12,651   "
      ]
     },
     "execution_count": 44,
     "metadata": {},
     "output_type": "execute_result"
    }
   ],
   "source": [
    "df=pd.concat([df1,df2])\n",
    "df.head()"
   ]
  },
  {
   "cell_type": "code",
   "execution_count": 45,
   "metadata": {},
   "outputs": [
    {
     "data": {
      "text/plain": [
       "(14767, 5)"
      ]
     },
     "execution_count": 45,
     "metadata": {},
     "output_type": "execute_result"
    }
   ],
   "source": [
    "df.shape"
   ]
  },
  {
   "cell_type": "code",
   "execution_count": 46,
   "metadata": {},
   "outputs": [
    {
     "data": {
      "text/plain": [
       "Occurrence    object\n",
       "Filière       object\n",
       "Produit       object\n",
       "Indicateur    object\n",
       " Valeur       object\n",
       "dtype: object"
      ]
     },
     "execution_count": 46,
     "metadata": {},
     "output_type": "execute_result"
    }
   ],
   "source": [
    "df.dtypes"
   ]
  },
  {
   "cell_type": "code",
   "execution_count": 47,
   "metadata": {},
   "outputs": [
    {
     "name": "stderr",
     "output_type": "stream",
     "text": [
      "<>:1: SyntaxWarning: invalid escape sequence '\\d'\n",
      "<>:1: SyntaxWarning: invalid escape sequence '\\d'\n",
      "C:\\Users\\ayman\\AppData\\Local\\Temp\\ipykernel_2344\\2840513805.py:1: SyntaxWarning: invalid escape sequence '\\d'\n",
      "  df[' Valeur ']=df[' Valeur '].str.replace('[^\\d]','',regex=True)\n"
     ]
    }
   ],
   "source": [
    "df[' Valeur ']=df[' Valeur '].str.replace('[^\\d]','',regex=True)\n",
    "df[' Valeur ']=pd.to_numeric(df[' Valeur '])"
   ]
  },
  {
   "cell_type": "code",
   "execution_count": 48,
   "metadata": {},
   "outputs": [],
   "source": [
    "df['Occurrence']=pd.to_numeric(df['Occurrence'])"
   ]
  },
  {
   "cell_type": "code",
   "execution_count": 49,
   "metadata": {},
   "outputs": [
    {
     "data": {
      "text/plain": [
       "Occurrence     0\n",
       "Filière        0\n",
       "Produit        0\n",
       "Indicateur     0\n",
       " Valeur       14\n",
       "dtype: int64"
      ]
     },
     "execution_count": 49,
     "metadata": {},
     "output_type": "execute_result"
    }
   ],
   "source": [
    "df.isna().sum()"
   ]
  },
  {
   "cell_type": "code",
   "execution_count": 50,
   "metadata": {},
   "outputs": [
    {
     "name": "stdout",
     "output_type": "stream",
     "text": [
      "      Occurrence        Filière            Produit             Indicateur  \\\n",
      "114         2010     Maraîchage            Asperge  Production-T (Tonnes)   \n",
      "115         2010     Maraîchage            Asperge        Superficie (Ha)   \n",
      "326         2011     Maraîchage            Asperge  Production-T (Tonnes)   \n",
      "327         2011     Maraîchage            Asperge        Superficie (Ha)   \n",
      "538         2012     Maraîchage            Asperge  Production-T (Tonnes)   \n",
      "539         2012     Maraîchage            Asperge        Superficie (Ha)   \n",
      "1376        2016  Industrielles           Cannabis  Production-T (Tonnes)   \n",
      "1390        2016  Industrielles    Sorgho a balais  Production-T (Tonnes)   \n",
      "1391        2016  Industrielles    Sorgho a balais        Superficie (Ha)   \n",
      "1627        2017     Maraîchage            Asperge  Production-T (Tonnes)   \n",
      "2047        2019  Industrielles          Cornichon  Production-T (Tonnes)   \n",
      "2048        2019  Industrielles          Cornichon        Superficie (Ha)   \n",
      "2051        2019  Industrielles  Piment de Cayenne  Production-T (Tonnes)   \n",
      "2052        2019  Industrielles  Piment de Cayenne        Superficie (Ha)   \n",
      "\n",
      "       Valeur   \n",
      "114        NaN  \n",
      "115        NaN  \n",
      "326        NaN  \n",
      "327        NaN  \n",
      "538        NaN  \n",
      "539        NaN  \n",
      "1376       NaN  \n",
      "1390       NaN  \n",
      "1391       NaN  \n",
      "1627       NaN  \n",
      "2047       NaN  \n",
      "2048       NaN  \n",
      "2051       NaN  \n",
      "2052       NaN  \n"
     ]
    }
   ],
   "source": [
    "print(df[df.isna().any(axis=1)])"
   ]
  },
  {
   "cell_type": "code",
   "execution_count": 51,
   "metadata": {},
   "outputs": [],
   "source": [
    "df=df.fillna(0)\n"
   ]
  },
  {
   "cell_type": "code",
   "execution_count": 52,
   "metadata": {},
   "outputs": [
    {
     "data": {
      "text/plain": [
       "1251"
      ]
     },
     "execution_count": 52,
     "metadata": {},
     "output_type": "execute_result"
    }
   ],
   "source": [
    "df.duplicated().sum()"
   ]
  },
  {
   "cell_type": "code",
   "execution_count": 53,
   "metadata": {},
   "outputs": [],
   "source": [
    "df=df.drop_duplicates()"
   ]
  },
  {
   "cell_type": "code",
   "execution_count": 54,
   "metadata": {},
   "outputs": [],
   "source": [
    "df.to_csv(\"Datasets/ProdAgri.csv\")"
   ]
  }
 ],
 "metadata": {
  "kernelspec": {
   "display_name": "Python 3",
   "language": "python",
   "name": "python3"
  },
  "language_info": {
   "codemirror_mode": {
    "name": "ipython",
    "version": 3
   },
   "file_extension": ".py",
   "mimetype": "text/x-python",
   "name": "python",
   "nbconvert_exporter": "python",
   "pygments_lexer": "ipython3",
   "version": "3.12.0"
  }
 },
 "nbformat": 4,
 "nbformat_minor": 2
}
