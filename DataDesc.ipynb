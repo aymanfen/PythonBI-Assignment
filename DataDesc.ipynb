{
 "cells": [
  {
   "cell_type": "code",
   "execution_count": 5,
   "metadata": {},
   "outputs": [],
   "source": [
    "import numpy as np\n",
    "import pandas as pd\n",
    "import matplotlib.pyplot as plt\n",
    "import seaborn as sns\n",
    "\n",
    "df=pd.read_csv(\"Datasets/ProdAgri.csv\")"
   ]
  },
  {
   "cell_type": "code",
   "execution_count": 8,
   "metadata": {},
   "outputs": [],
   "source": [
    "df=df.drop(df.columns[0],axis=1)"
   ]
  },
  {
   "cell_type": "code",
   "execution_count": 9,
   "metadata": {},
   "outputs": [
    {
     "data": {
      "text/html": [
       "<div>\n",
       "<style scoped>\n",
       "    .dataframe tbody tr th:only-of-type {\n",
       "        vertical-align: middle;\n",
       "    }\n",
       "\n",
       "    .dataframe tbody tr th {\n",
       "        vertical-align: top;\n",
       "    }\n",
       "\n",
       "    .dataframe thead th {\n",
       "        text-align: right;\n",
       "    }\n",
       "</style>\n",
       "<table border=\"1\" class=\"dataframe\">\n",
       "  <thead>\n",
       "    <tr style=\"text-align: right;\">\n",
       "      <th></th>\n",
       "      <th>Occurrence</th>\n",
       "      <th>Filière</th>\n",
       "      <th>Produit</th>\n",
       "      <th>Indicateur</th>\n",
       "      <th>Valeur</th>\n",
       "    </tr>\n",
       "  </thead>\n",
       "  <tbody>\n",
       "    <tr>\n",
       "      <th>0</th>\n",
       "      <td>2010</td>\n",
       "      <td>Cheptel_Bovins</td>\n",
       "      <td>Bovins_Femelles</td>\n",
       "      <td>Effectif (1000 Tête)</td>\n",
       "      <td>2174.0</td>\n",
       "    </tr>\n",
       "    <tr>\n",
       "      <th>1</th>\n",
       "      <td>2010</td>\n",
       "      <td>Cheptel_Bovins</td>\n",
       "      <td>Bovins_Males</td>\n",
       "      <td>Effectif (1000 Tête)</td>\n",
       "      <td>614.0</td>\n",
       "    </tr>\n",
       "    <tr>\n",
       "      <th>2</th>\n",
       "      <td>2010</td>\n",
       "      <td>Cheptel_Caprins</td>\n",
       "      <td>Caprins_Femelles</td>\n",
       "      <td>Effectif (1000 Tête)</td>\n",
       "      <td>4030.0</td>\n",
       "    </tr>\n",
       "    <tr>\n",
       "      <th>3</th>\n",
       "      <td>2010</td>\n",
       "      <td>Cheptel_Caprins</td>\n",
       "      <td>Caprins_Males</td>\n",
       "      <td>Effectif (1000 Tête)</td>\n",
       "      <td>1254.0</td>\n",
       "    </tr>\n",
       "    <tr>\n",
       "      <th>4</th>\n",
       "      <td>2010</td>\n",
       "      <td>Cheptel_Ovins</td>\n",
       "      <td>Ovins_Femelles</td>\n",
       "      <td>Effectif (1000 Tête)</td>\n",
       "      <td>12651.0</td>\n",
       "    </tr>\n",
       "  </tbody>\n",
       "</table>\n",
       "</div>"
      ],
      "text/plain": [
       "   Occurrence          Filière           Produit            Indicateur  \\\n",
       "0        2010   Cheptel_Bovins   Bovins_Femelles  Effectif (1000 Tête)   \n",
       "1        2010   Cheptel_Bovins      Bovins_Males  Effectif (1000 Tête)   \n",
       "2        2010  Cheptel_Caprins  Caprins_Femelles  Effectif (1000 Tête)   \n",
       "3        2010  Cheptel_Caprins     Caprins_Males  Effectif (1000 Tête)   \n",
       "4        2010    Cheptel_Ovins    Ovins_Femelles  Effectif (1000 Tête)   \n",
       "\n",
       "    Valeur   \n",
       "0    2174.0  \n",
       "1     614.0  \n",
       "2    4030.0  \n",
       "3    1254.0  \n",
       "4   12651.0  "
      ]
     },
     "execution_count": 9,
     "metadata": {},
     "output_type": "execute_result"
    }
   ],
   "source": [
    "df.head()"
   ]
  }
 ],
 "metadata": {
  "kernelspec": {
   "display_name": "Python 3",
   "language": "python",
   "name": "python3"
  },
  "language_info": {
   "codemirror_mode": {
    "name": "ipython",
    "version": 3
   },
   "file_extension": ".py",
   "mimetype": "text/x-python",
   "name": "python",
   "nbconvert_exporter": "python",
   "pygments_lexer": "ipython3",
   "version": "3.12.0"
  }
 },
 "nbformat": 4,
 "nbformat_minor": 2
}
